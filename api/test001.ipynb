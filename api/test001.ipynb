{
 "cells": [
  {
   "cell_type": "code",
   "execution_count": 5,
   "id": "e3b80b2c-bbfb-466e-b354-6a51abd5e751",
   "metadata": {},
   "outputs": [
    {
     "name": "stdout",
     "output_type": "stream",
     "text": [
      "   id  batch_id       country  subscribers  videos  likes  dislikes  shares  \\\n",
      "0   9         3        Canada          778      12    132         0       0   \n",
      "1  10         3         India        96700     242  76348         0       0   \n",
      "2  11         3     Sri Lanka         3610      86   2516         0       0   \n",
      "3  12         3  South Africa          372      26    806         0       0   \n",
      "\n",
      "   comments      views           join_date         create_date  \n",
      "0        13    1507906 2012-10-15 21:46:44 2023-10-12 00:01:00  \n",
      "1       117  329030088 2013-07-25 07:31:06 2023-10-12 00:01:00  \n",
      "2       101    4804921 2011-07-21 05:55:36 2023-10-12 00:01:00  \n",
      "3        12    1067218 2014-09-03 10:28:19 2023-10-12 00:01:00  \n"
     ]
    }
   ],
   "source": [
    "import pandas as pd\n",
    "import mysql.connector\n",
    "\n",
    "# Create a connection to MySQL\n",
    "mydb = mysql.connector.connect(\n",
    "    host=\"localhost\",\n",
    "    user=\"root\",\n",
    "    password=\"rootpassword\"\n",
    ")\n",
    "\n",
    "# Create a cursor\n",
    "cursor = mydb.cursor()\n",
    "\n",
    "# SQL query to retrieve data for the maximum batch_id\n",
    "query = \"SELECT * FROM social_media_db.youtube_channel_data WHERE batch_id = (SELECT MAX(batch_id) FROM social_media_db.youtube_channel_data)\"\n",
    "cursor.execute(query)\n",
    "\n",
    "# Fetch the data\n",
    "data = cursor.fetchall()\n",
    "\n",
    "# Close the cursor and connection\n",
    "cursor.close()\n",
    "mydb.close()\n",
    "\n",
    "\n",
    "# Convert the data to a Pandas DataFrame\n",
    "df = pd.DataFrame(data, columns=[\n",
    "    \"id\", \"batch_id\", \"country\", \"subscribers\", \"videos\", \"likes\", \"dislikes\", \"shares\", \"comments\",\n",
    "    \"views\", \"join_date\", \"create_date\"\n",
    "])\n",
    "print(df)\n",
    "\n",
    "\n"
   ]
  },
  {
   "cell_type": "code",
   "execution_count": null,
   "id": "2f673aee-d316-4e10-b39d-404eafe38f6a",
   "metadata": {},
   "outputs": [],
   "source": []
  }
 ],
 "metadata": {
  "kernelspec": {
   "display_name": "Python 3 (ipykernel)",
   "language": "python",
   "name": "python3"
  },
  "language_info": {
   "codemirror_mode": {
    "name": "ipython",
    "version": 3
   },
   "file_extension": ".py",
   "mimetype": "text/x-python",
   "name": "python",
   "nbconvert_exporter": "python",
   "pygments_lexer": "ipython3",
   "version": "3.8.0"
  }
 },
 "nbformat": 4,
 "nbformat_minor": 5
}
