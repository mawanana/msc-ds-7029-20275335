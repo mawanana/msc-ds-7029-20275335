{
 "cells": [
  {
   "cell_type": "code",
   "execution_count": 6,
   "id": "20c08fc5-56c7-4cf5-952f-9b0629930116",
   "metadata": {},
   "outputs": [
    {
     "name": "stdout",
     "output_type": "stream",
     "text": [
      "<mysql.connector.connection.MySQLConnection object at 0x7fba5509dca0>\n"
     ]
    }
   ],
   "source": [
    "import mysql.connector\n",
    "\n",
    "# Creating connection object\n",
    "\n",
    "mydb = mysql.connector.connect(\n",
    "\n",
    "    host = \"localhost\",\n",
    "\n",
    "    user = \"root\",\n",
    "\n",
    "    password = \"rootpassword\"\n",
    "\n",
    ")\n",
    "\n",
    "cursor = mydb.cursor()\n",
    "cursor.execute(\"CREATE DATABASE geeksforgeeks\")\n",
    "\n",
    "# Printing the connection object\n",
    "\n",
    "print(mydb)\n"
   ]
  },
  {
   "cell_type": "code",
   "execution_count": null,
   "id": "870d8e7d-8550-4f69-bc87-dc5f66705822",
   "metadata": {},
   "outputs": [],
   "source": []
  }
 ],
 "metadata": {
  "kernelspec": {
   "display_name": "Python 3 (ipykernel)",
   "language": "python",
   "name": "python3"
  },
  "language_info": {
   "codemirror_mode": {
    "name": "ipython",
    "version": 3
   },
   "file_extension": ".py",
   "mimetype": "text/x-python",
   "name": "python",
   "nbconvert_exporter": "python",
   "pygments_lexer": "ipython3",
   "version": "3.8.0"
  }
 },
 "nbformat": 4,
 "nbformat_minor": 5
}
