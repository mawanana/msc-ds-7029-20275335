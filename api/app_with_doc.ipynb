{
 "cells": [
  {
   "cell_type": "code",
   "execution_count": 2,
   "id": "b4299c1f-e742-40b8-99cd-6cd42c56a13f",
   "metadata": {},
   "outputs": [
    {
     "ename": "ImportError",
     "evalue": "cannot import name 'cached_property' from 'werkzeug' (/Users/eranda/Documents/MyDocuments/MSc_DS-7029-20275335/venv/lib/python3.8/site-packages/werkzeug/__init__.py)",
     "output_type": "error",
     "traceback": [
      "\u001b[0;31m---------------------------------------------------------------------------\u001b[0m",
      "\u001b[0;31mImportError\u001b[0m                               Traceback (most recent call last)",
      "Cell \u001b[0;32mIn[2], line 2\u001b[0m\n\u001b[1;32m      1\u001b[0m \u001b[38;5;28;01mfrom\u001b[39;00m \u001b[38;5;21;01mflask\u001b[39;00m \u001b[38;5;28;01mimport\u001b[39;00m Flask, jsonify\n\u001b[0;32m----> 2\u001b[0m \u001b[38;5;28;01mfrom\u001b[39;00m \u001b[38;5;21;01mflask_restplus\u001b[39;00m \u001b[38;5;28;01mimport\u001b[39;00m Api, Resource\n\u001b[1;32m      4\u001b[0m app \u001b[38;5;241m=\u001b[39m Flask(__name)\n\u001b[1;32m      5\u001b[0m api \u001b[38;5;241m=\u001b[39m Api(app, version\u001b[38;5;241m=\u001b[39m\u001b[38;5;124m'\u001b[39m\u001b[38;5;124m1.0\u001b[39m\u001b[38;5;124m'\u001b[39m, title\u001b[38;5;241m=\u001b[39m\u001b[38;5;124m'\u001b[39m\u001b[38;5;124mAPI Documentation\u001b[39m\u001b[38;5;124m'\u001b[39m, description\u001b[38;5;241m=\u001b[39m\u001b[38;5;124m'\u001b[39m\u001b[38;5;124mSample API Documentation\u001b[39m\u001b[38;5;124m'\u001b[39m)\n",
      "File \u001b[0;32m~/Documents/MyDocuments/MSc_DS-7029-20275335/venv/lib/python3.8/site-packages/flask_restplus/__init__.py:4\u001b[0m\n\u001b[1;32m      1\u001b[0m \u001b[38;5;66;03m# -*- coding: utf-8 -*-\u001b[39;00m\n\u001b[1;32m      2\u001b[0m \u001b[38;5;28;01mfrom\u001b[39;00m \u001b[38;5;21;01m__future__\u001b[39;00m \u001b[38;5;28;01mimport\u001b[39;00m absolute_import\n\u001b[0;32m----> 4\u001b[0m \u001b[38;5;28;01mfrom\u001b[39;00m \u001b[38;5;21;01m.\u001b[39;00m \u001b[38;5;28;01mimport\u001b[39;00m fields, reqparse, apidoc, inputs, cors\n\u001b[1;32m      5\u001b[0m \u001b[38;5;28;01mfrom\u001b[39;00m \u001b[38;5;21;01m.\u001b[39;00m\u001b[38;5;21;01mapi\u001b[39;00m \u001b[38;5;28;01mimport\u001b[39;00m Api  \u001b[38;5;66;03m# noqa\u001b[39;00m\n\u001b[1;32m      6\u001b[0m \u001b[38;5;28;01mfrom\u001b[39;00m \u001b[38;5;21;01m.\u001b[39;00m\u001b[38;5;21;01mmarshalling\u001b[39;00m \u001b[38;5;28;01mimport\u001b[39;00m marshal, marshal_with, marshal_with_field  \u001b[38;5;66;03m# noqa\u001b[39;00m\n",
      "File \u001b[0;32m~/Documents/MyDocuments/MSc_DS-7029-20275335/venv/lib/python3.8/site-packages/flask_restplus/fields.py:17\u001b[0m\n\u001b[1;32m     14\u001b[0m \u001b[38;5;28;01mfrom\u001b[39;00m \u001b[38;5;21;01msix\u001b[39;00m\u001b[38;5;21;01m.\u001b[39;00m\u001b[38;5;21;01mmoves\u001b[39;00m\u001b[38;5;21;01m.\u001b[39;00m\u001b[38;5;21;01murllib\u001b[39;00m\u001b[38;5;21;01m.\u001b[39;00m\u001b[38;5;21;01mparse\u001b[39;00m \u001b[38;5;28;01mimport\u001b[39;00m urlparse, urlunparse\n\u001b[1;32m     16\u001b[0m \u001b[38;5;28;01mfrom\u001b[39;00m \u001b[38;5;21;01mflask\u001b[39;00m \u001b[38;5;28;01mimport\u001b[39;00m url_for, request\n\u001b[0;32m---> 17\u001b[0m \u001b[38;5;28;01mfrom\u001b[39;00m \u001b[38;5;21;01mwerkzeug\u001b[39;00m \u001b[38;5;28;01mimport\u001b[39;00m cached_property\n\u001b[1;32m     19\u001b[0m \u001b[38;5;28;01mfrom\u001b[39;00m \u001b[38;5;21;01m.\u001b[39;00m\u001b[38;5;21;01minputs\u001b[39;00m \u001b[38;5;28;01mimport\u001b[39;00m date_from_iso8601, datetime_from_iso8601, datetime_from_rfc822, boolean\n\u001b[1;32m     20\u001b[0m \u001b[38;5;28;01mfrom\u001b[39;00m \u001b[38;5;21;01m.\u001b[39;00m\u001b[38;5;21;01merrors\u001b[39;00m \u001b[38;5;28;01mimport\u001b[39;00m RestError\n",
      "\u001b[0;31mImportError\u001b[0m: cannot import name 'cached_property' from 'werkzeug' (/Users/eranda/Documents/MyDocuments/MSc_DS-7029-20275335/venv/lib/python3.8/site-packages/werkzeug/__init__.py)"
     ]
    }
   ],
   "source": [
    "# from flask import Flask, jsonify\n",
    "# from flask_restplus import Api, Resource\n",
    "\n",
    "# app = Flask(__name)\n",
    "# api = Api(app, version='1.0', title='API Documentation', description='Sample API Documentation')\n",
    "\n",
    "from flask_restplus import Api\n",
    "\n",
    "api = Api(app, version='1.0', title='API Documentation', description='Sample API Documentation', compate=False)\n",
    "\n",
    "\n",
    "# Import controllers and models\n",
    "from controllers.comments_cleaned_data import process_api_request_comments_cleaned_data\n",
    "from controllers.post_cleaned_data import process_api_request_post_cleaned_data\n",
    "from controllers.youtube_channel_data import process_api_request_youtube_channel_data\n",
    "\n",
    "# Namespace for the first API\n",
    "ns_comments_cleaned_data = api.namespace('api/comments_cleaned_data', description='API for Comments Cleaned Data')\n",
    "\n",
    "@ns_comments_cleaned_data.route('/')\n",
    "class CommentsCleanedData(Resource):\n",
    "    def get(self):\n",
    "        \"\"\"Get data for Comments Cleaned Data\"\"\"\n",
    "        data = process_api_request_comments_cleaned_data()\n",
    "        return jsonify(data)\n",
    "\n",
    "# Namespace for the second API\n",
    "ns_post_cleaned_data = api.namespace('api/post_cleaned_data', description='API for Post Cleaned Data')\n",
    "\n",
    "@ns_post_cleaned_data.route('/')\n",
    "class PostCleanedData(Resource):\n",
    "    def get(self):\n",
    "        \"\"\"Get data for Post Cleaned Data\"\"\"\n",
    "        data = process_api_request_post_cleaned_data()\n",
    "        return jsonify(data)\n",
    "\n",
    "# Namespace for the third API\n",
    "ns_youtube_channel_data = api.namespace('api/youtube_channel_data', description='API for YouTube Channel Data')\n",
    "\n",
    "@ns_youtube_channel_data.route('/')\n",
    "class YoutubeChannelData(Resource):\n",
    "    def get(self):\n",
    "        \"\"\"Get data for YouTube Channel Data\"\"\"\n",
    "        data = process_api_request_youtube_channel_data()\n",
    "        return jsonify(data)\n",
    "\n",
    "if __name__ == '__main__':\n",
    "    app.run(debug=True)\n"
   ]
  },
  {
   "cell_type": "code",
   "execution_count": null,
   "id": "362fdef8-3edb-44ca-a1c5-58bf3eab0e87",
   "metadata": {},
   "outputs": [],
   "source": []
  }
 ],
 "metadata": {
  "kernelspec": {
   "display_name": "Python 3 (ipykernel)",
   "language": "python",
   "name": "python3"
  },
  "language_info": {
   "codemirror_mode": {
    "name": "ipython",
    "version": 3
   },
   "file_extension": ".py",
   "mimetype": "text/x-python",
   "name": "python",
   "nbconvert_exporter": "python",
   "pygments_lexer": "ipython3",
   "version": "3.8.0"
  }
 },
 "nbformat": 4,
 "nbformat_minor": 5
}
