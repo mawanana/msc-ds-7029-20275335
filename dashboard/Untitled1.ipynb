{
 "cells": [
  {
   "cell_type": "code",
   "execution_count": 4,
   "id": "aa026a91-6054-41b9-af1d-f22bcfd0470e",
   "metadata": {},
   "outputs": [
    {
     "name": "stdout",
     "output_type": "stream",
     "text": [
      "        country  subscribers  videos  likes  comments      views\n",
      "0        Canada          778      12    132        13    1507906\n",
      "1         India        96700     242  76347       117  329030088\n",
      "2     Sri Lanka         3610      86   2516       101    4804921\n",
      "3  South Africa          372      26    806        12    1067218\n",
      "===================\n",
      "        country  subscribers  videos  likes  comments     views\n",
      "0         India      1000000     500  50000      2000  10000000\n",
      "1     Sri Lanka       250000     300   3000       100    300000\n",
      "2        Canada       500000     600   6000       400   5000000\n",
      "3  South Africa       750000     400  40000      1500   7500000\n"
     ]
    }
   ],
   "source": [
    "import pandas as pd\n",
    "import requests\n",
    "\n",
    "data = [\n",
    "  {\n",
    "    \"comments\": 13,\n",
    "    \"country\": \"Canada\",\n",
    "    \"likes\": 132,\n",
    "    \"subscribers\": 778,\n",
    "    \"videos\": 12,\n",
    "    \"views\": 1507906\n",
    "  },\n",
    "  {\n",
    "    \"comments\": 117,\n",
    "    \"country\": \"India\",\n",
    "    \"likes\": 76347,\n",
    "    \"subscribers\": 96700,\n",
    "    \"videos\": 242,\n",
    "    \"views\": 329030088\n",
    "  },\n",
    "  {\n",
    "    \"comments\": 101,\n",
    "    \"country\": \"Sri Lanka\",\n",
    "    \"likes\": 2516,\n",
    "    \"subscribers\": 3610,\n",
    "    \"videos\": 86,\n",
    "    \"views\": 4804921\n",
    "  },\n",
    "  {\n",
    "    \"comments\": 12,\n",
    "    \"country\": \"South Africa\",\n",
    "    \"likes\": 806,\n",
    "    \"subscribers\": 372,\n",
    "    \"videos\": 26,\n",
    "    \"views\": 1067218\n",
    "  }\n",
    "]\n",
    "# Convert the list of dictionaries to a DataFrame\n",
    "df = pd.DataFrame(data)\n",
    "\n",
    "\n",
    "\n",
    "api_url = 'http://127.0.0.1:5000/controller_youtube_channel/api/youtube_channel_data'\n",
    "response = requests.get(api_url)\n",
    "data = response.json()\n",
    "df = pd.DataFrame(data)\n",
    "\n",
    "\n",
    "# Define the desired column order\n",
    "desired_column_order = ['country', 'subscribers', 'videos', 'likes', 'comments', 'views']\n",
    "\n",
    "# Reorder the columns\n",
    "df = df[desired_column_order]\n",
    "\n",
    "\n",
    "# Display the DataFrame\n",
    "print(df)\n",
    "print (\"===================\")\n",
    "data = pd.DataFrame({\n",
    "    'country': ['India', 'Sri Lanka', 'Canada', 'South Africa'],\n",
    "    'subscribers': [1000000, 250000, 500000, 750000],\n",
    "    'videos': [500, 300, 600, 400],\n",
    "    'likes': [50000, 3000, 6000, 40000],\n",
    "    'comments': [2000, 100, 400, 1500],\n",
    "    'views': [10000000, 300000, 5000000, 7500000]\n",
    "})\n",
    "\n",
    "\n",
    "print(data)\n"
   ]
  },
  {
   "cell_type": "code",
   "execution_count": null,
   "id": "05d99e3f-15e0-47e7-8df3-bf3978f35fbc",
   "metadata": {},
   "outputs": [],
   "source": []
  }
 ],
 "metadata": {
  "kernelspec": {
   "display_name": "Python 3 (ipykernel)",
   "language": "python",
   "name": "python3"
  },
  "language_info": {
   "codemirror_mode": {
    "name": "ipython",
    "version": 3
   },
   "file_extension": ".py",
   "mimetype": "text/x-python",
   "name": "python",
   "nbconvert_exporter": "python",
   "pygments_lexer": "ipython3",
   "version": "3.8.0"
  }
 },
 "nbformat": 4,
 "nbformat_minor": 5
}
