{
 "cells": [
  {
   "cell_type": "code",
   "execution_count": 6,
   "id": "e68c3b6c-c375-4d5b-bfa1-656a3b92cd50",
   "metadata": {},
   "outputs": [
    {
     "data": {
      "text/html": [
       "\n",
       "        <iframe\n",
       "            width=\"100%\"\n",
       "            height=\"650\"\n",
       "            src=\"http://127.0.0.1:8050/\"\n",
       "            frameborder=\"0\"\n",
       "            allowfullscreen\n",
       "            \n",
       "        ></iframe>\n",
       "        "
      ],
      "text/plain": [
       "<IPython.lib.display.IFrame at 0x7ff5c70dbb20>"
      ]
     },
     "metadata": {},
     "output_type": "display_data"
    }
   ],
   "source": [
    "import dash\n",
    "import dash_core_components as dcc\n",
    "import dash_html_components as html\n",
    "from dash.dependencies import Input, Output\n",
    "import plotly.express as px\n",
    "import pandas as pd\n",
    "\n",
    "# Sample data (replace with your own dataset)\n",
    "data = pd.DataFrame({\n",
    "    'Upload Time': pd.to_datetime(['2023-10-01 08:00:00', '2023-10-01 10:00:00', '2023-10-01 12:00:00', '2023-10-01 14:00:00', '2023-10-01 16:00:00']),\n",
    "    'Views': [100, 150, 200, 250, 300],\n",
    "    'Comments': [10, 15, 20, 25, 30]\n",
    "})\n",
    "\n",
    "app = dash.Dash(__name__)\n",
    "\n",
    "app.layout = html.Div([\n",
    "    dcc.Graph(id='video-stats'),\n",
    "])\n",
    "\n",
    "@app.callback(\n",
    "    Output('video-stats', 'figure'),\n",
    "    [Input('video-stats', 'relayoutData')]\n",
    ")\n",
    "def update_chart(relayoutData):\n",
    "    if relayoutData is None:\n",
    "        filtered_data = data\n",
    "    else:\n",
    "        x_range = relayoutData.get('xaxis.range', [data['Upload Time'].min(), data['Upload Time'].max()])\n",
    "        filtered_data = data[(data['Upload Time'] >= x_range[0]) & (data['Upload Time'] <= x_range[1])]\n",
    "\n",
    "    fig = px.line(filtered_data, x='Upload Time', y=['Views', 'Comments'], title='Video/Post Stats')\n",
    "    fig.update_layout(\n",
    "        xaxis_title='Upload Time',\n",
    "        yaxis_title='Count',\n",
    "    )\n",
    "\n",
    "    return fig\n",
    "\n",
    "\n",
    "if __name__ == '__main__':\n",
    "    app.run_server(debug=True)\n"
   ]
  },
  {
   "cell_type": "code",
   "execution_count": null,
   "id": "96c8b538-213c-4981-8309-2a9a9f7af62d",
   "metadata": {},
   "outputs": [],
   "source": []
  }
 ],
 "metadata": {
  "kernelspec": {
   "display_name": "Python 3 (ipykernel)",
   "language": "python",
   "name": "python3"
  },
  "language_info": {
   "codemirror_mode": {
    "name": "ipython",
    "version": 3
   },
   "file_extension": ".py",
   "mimetype": "text/x-python",
   "name": "python",
   "nbconvert_exporter": "python",
   "pygments_lexer": "ipython3",
   "version": "3.8.0"
  }
 },
 "nbformat": 4,
 "nbformat_minor": 5
}
