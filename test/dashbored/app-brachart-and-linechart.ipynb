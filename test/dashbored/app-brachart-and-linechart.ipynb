{
 "cells": [
  {
   "cell_type": "code",
   "execution_count": 3,
   "id": "df97c7ac",
   "metadata": {},
   "outputs": [
    {
     "name": "stderr",
     "output_type": "stream",
     "text": [
      "/var/folders/y3/k251xs_s3c3dgw01ys3t1_wm0000gq/T/ipykernel_7667/3285745322.py:2: UserWarning:\n",
      "\n",
      "\n",
      "The dash_core_components package is deprecated. Please replace\n",
      "`import dash_core_components as dcc` with `from dash import dcc`\n",
      "\n",
      "/var/folders/y3/k251xs_s3c3dgw01ys3t1_wm0000gq/T/ipykernel_7667/3285745322.py:3: UserWarning:\n",
      "\n",
      "\n",
      "The dash_html_components package is deprecated. Please replace\n",
      "`import dash_html_components as html` with `from dash import html`\n",
      "\n"
     ]
    },
    {
     "data": {
      "text/html": [
       "\n",
       "        <iframe\n",
       "            width=\"100%\"\n",
       "            height=\"650\"\n",
       "            src=\"http://127.0.0.1:8050/\"\n",
       "            frameborder=\"0\"\n",
       "            allowfullscreen\n",
       "            \n",
       "        ></iframe>\n",
       "        "
      ],
      "text/plain": [
       "<IPython.lib.display.IFrame at 0x7fefad2f2640>"
      ]
     },
     "metadata": {},
     "output_type": "display_data"
    }
   ],
   "source": [
    "import dash\n",
    "import dash_core_components as dcc\n",
    "import dash_html_components as html\n",
    "from dash.dependencies import Input, Output\n",
    "import plotly.express as px\n",
    "import pandas as pd\n",
    "\n",
    "# Sample data for the bar chart and line chart\n",
    "data = pd.DataFrame({\n",
    "    'Category': ['A', 'B', 'C', 'D'],\n",
    "    'Values': [10, 15, 7, 12],\n",
    "    'LineValues': [5, 10, 8, 6]\n",
    "})\n",
    "\n",
    "# Create a Dash app\n",
    "app = dash.Dash(__name__)\n",
    "\n",
    "# Define the layout of the app\n",
    "app.layout = html.Div([\n",
    "    html.H1(\"Dash App with Bar Chart and Line Chart\"),\n",
    "    \n",
    "    # Bar chart\n",
    "    dcc.Graph(id='bar-chart'),\n",
    "    \n",
    "    # Line chart\n",
    "    dcc.Graph(id='line-chart'),\n",
    "])\n",
    "\n",
    "# Define callbacks to update the charts\n",
    "@app.callback(\n",
    "    Output('bar-chart', 'figure'),\n",
    "    Input('bar-chart', 'relayoutData')\n",
    ")\n",
    "def update_bar_chart(relayoutData):\n",
    "    # Create a bar chart using Plotly Express\n",
    "    fig = px.bar(data, x='Category', y='Values', title='Bar Chart')\n",
    "    return fig\n",
    "\n",
    "@app.callback(\n",
    "    Output('line-chart', 'figure'),\n",
    "    Input('line-chart', 'relayoutData')\n",
    ")\n",
    "def update_line_chart(relayoutData):\n",
    "    # Create a line chart using Plotly Express\n",
    "    fig = px.line(data, x='Category', y='LineValues', title='Line Chart')\n",
    "    return fig\n",
    "\n",
    "# Run the app\n",
    "if __name__ == '__main__':\n",
    "    app.run_server(debug=True)\n"
   ]
  },
  {
   "cell_type": "code",
   "execution_count": null,
   "id": "1fabe206",
   "metadata": {},
   "outputs": [],
   "source": []
  }
 ],
 "metadata": {
  "kernelspec": {
   "display_name": "Python 3 (ipykernel)",
   "language": "python",
   "name": "python3"
  },
  "language_info": {
   "codemirror_mode": {
    "name": "ipython",
    "version": 3
   },
   "file_extension": ".py",
   "mimetype": "text/x-python",
   "name": "python",
   "nbconvert_exporter": "python",
   "pygments_lexer": "ipython3",
   "version": "3.8.0"
  }
 },
 "nbformat": 4,
 "nbformat_minor": 5
}
