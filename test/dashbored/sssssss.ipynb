{
 "cells": [
  {
   "cell_type": "code",
   "execution_count": 10,
   "id": "b880e899-2c04-4d78-9270-428f077c7445",
   "metadata": {},
   "outputs": [
    {
     "data": {
      "text/html": [
       "\n",
       "        <iframe\n",
       "            width=\"100%\"\n",
       "            height=\"650\"\n",
       "            src=\"http://127.0.0.1:8050/\"\n",
       "            frameborder=\"0\"\n",
       "            allowfullscreen\n",
       "            \n",
       "        ></iframe>\n",
       "        "
      ],
      "text/plain": [
       "<IPython.lib.display.IFrame at 0x7fd78d00fd60>"
      ]
     },
     "metadata": {},
     "output_type": "display_data"
    }
   ],
   "source": [
    "import dash\n",
    "import dash_core_components as dcc\n",
    "import dash_html_components as html\n",
    "from dash.dependencies import Input, Output\n",
    "import plotly.graph_objs as go\n",
    "import pandas as pd\n",
    "\n",
    "\n",
    "# Fetch data from your Flask API\n",
    "api_url = 'http://127.0.0.1:5000/controller_youtube_channel/api/youtube_channel_data'\n",
    "response = requests.get(api_url)\n",
    "data = response.json()\n",
    "\n",
    "# Convert the data into a DataFrame\n",
    "df = pd.DataFrame(data)\n",
    "\n",
    "# Calculate the percentage values for each metric\n",
    "for col in ['subscribers', 'videos', 'likes', 'comments', 'views']:\n",
    "    df[f'{col} (%)'] = (df[col] / df[col].sum()) * 100\n",
    "\n",
    "# Create a Dash app\n",
    "app = dash.Dash(__name__)\n",
    "\n",
    "# Define the layout of the app\n",
    "app.layout = html.Div([\n",
    "    html.H1(\"Social Media Data Dashboard (Percentage)\"),\n",
    "    dcc.Graph(id='multi-bar-charts'),\n",
    "])\n",
    "\n",
    "# Define a callback to update the multi-bar charts\n",
    "@app.callback(\n",
    "    Output('multi-bar-charts', 'figure'),\n",
    "    Input('multi-bar-charts', 'relayoutData')\n",
    ")\n",
    "def update_multi_bar_charts(_):\n",
    "    traces = []\n",
    "    \n",
    "    for col in ['subscribers (%)', 'videos (%)', 'likes (%)', 'comments (%)', 'views (%)']:\n",
    "        trace = go.Bar(\n",
    "            x=df['country'],\n",
    "            y=df[col],\n",
    "            name=col,\n",
    "        )\n",
    "        traces.append(trace)\n",
    "\n",
    "    layout = go.Layout(\n",
    "        barmode='group',\n",
    "        title='YouTube Channel Analytics by Country (Percentage)',\n",
    "        xaxis={'title': 'Country'},\n",
    "        yaxis={'title': 'Percentage (%)'},\n",
    "        template='plotly_dark'\n",
    "    )\n",
    "    \n",
    "    fig = go.Figure(data=traces, layout=layout)\n",
    "\n",
    "    return fig\n",
    "\n",
    "# Run the app\n",
    "if __name__ == '__main__':\n",
    "    app.run_server(debug=True)\n"
   ]
  },
  {
   "cell_type": "code",
   "execution_count": null,
   "id": "18339c34-8205-4846-aa15-c89a3b38f9a7",
   "metadata": {},
   "outputs": [],
   "source": []
  }
 ],
 "metadata": {
  "kernelspec": {
   "display_name": "Python 3 (ipykernel)",
   "language": "python",
   "name": "python3"
  },
  "language_info": {
   "codemirror_mode": {
    "name": "ipython",
    "version": 3
   },
   "file_extension": ".py",
   "mimetype": "text/x-python",
   "name": "python",
   "nbconvert_exporter": "python",
   "pygments_lexer": "ipython3",
   "version": "3.8.0"
  }
 },
 "nbformat": 4,
 "nbformat_minor": 5
}
