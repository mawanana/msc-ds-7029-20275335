{
 "cells": [
  {
   "cell_type": "code",
   "execution_count": null,
   "id": "fae8dbbb-64d4-4925-9a60-aba5f4fa5d1d",
   "metadata": {},
   "outputs": [],
   "source": [
    "import dash\n",
    "import dash_core_components as dcc\n",
    "import dash_html_components as html\n",
    "from dash.dependencies import Input, Output\n",
    "import plotly.express as px\n",
    "import pandas as pd\n",
    "\n",
    "app = dash.Dash(__name__)\n",
    "\n",
    "# Sample data (replace with your own datasets for Reddit and Source2)\n",
    "data_reddit = pd.DataFrame({\n",
    "    'Upload Time': pd.to_datetime(['2023-10-01 08:00:00', '2023-10-01 10:00:00', '2023-10-01 12:00:00', '2023-10-01 14:00:00', '2023-10-01 16:00:00']),\n",
    "    'Views': [100, 150, 200, 250, 300],\n",
    "    'Comments': [10, 15, 20, 25, 30]\n",
    "})\n",
    "\n",
    "data_source2 = pd.DataFrame({\n",
    "    'Upload Time': pd.to_datetime(['2023-10-01 08:00:00', '2023-10-01 10:00:00', '2023-10-01 12:00:00', '2023-10-01 14:00:00', '2023-10-01 16:00:00']),\n",
    "    'Views': [80, 120, 160, 200, 240],\n",
    "    'Comments': [8, 12, 16, 20, 24]\n",
    "})\n",
    "\n",
    "app.layout = html.Div([\n",
    "    dcc.Tabs(id='tabs', value='Reddit', children=[\n",
    "        dcc.Tab(label='Reddit', value='Reddit'),\n",
    "        dcc.Tab(label='Source2', value='Source2'),\n",
    "    ]),\n",
    "    html.Div(id='tabs-content')\n",
    "], style={'background-color': 'lightgray', 'color': 'black'})  # Set background and text color for the main layout\n",
    "\n",
    "@app.callback(\n",
    "    Output('tabs-content', 'children'),\n",
    "    [Input('tabs', 'value')]\n",
    ")\n",
    "def render_content(tab):\n",
    "    if tab == 'Reddit':\n",
    "        data = data_reddit\n",
    "    elif tab == 'Source2':\n",
    "        data = data_source2\n",
    "\n",
    "    fig = px.line(data, x='Upload Time', y=['Views', 'Comments'], title=f'{tab} Stats')\n",
    "    fig.update_layout(\n",
    "        xaxis_title='Upload Time',\n",
    "        yaxis_title='Count',\n",
    "    )\n",
    "\n",
    "    return dcc.Graph(figure=fig)\n",
    "\n",
    "if __name__ == '__main__':\n",
    "    app.run_server(debug=True)\n"
   ]
  }
 ],
 "metadata": {
  "kernelspec": {
   "display_name": "Python 3 (ipykernel)",
   "language": "python",
   "name": "python3"
  },
  "language_info": {
   "codemirror_mode": {
    "name": "ipython",
    "version": 3
   },
   "file_extension": ".py",
   "mimetype": "text/x-python",
   "name": "python",
   "nbconvert_exporter": "python",
   "pygments_lexer": "ipython3",
   "version": "3.8.0"
  }
 },
 "nbformat": 4,
 "nbformat_minor": 5
}
