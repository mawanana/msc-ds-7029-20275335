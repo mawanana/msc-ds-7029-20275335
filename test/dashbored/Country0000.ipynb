{
 "cells": [
  {
   "cell_type": "code",
   "execution_count": 1,
   "id": "81300159-416a-4fc5-b9cb-dbf3031f6789",
   "metadata": {},
   "outputs": [
    {
     "name": "stderr",
     "output_type": "stream",
     "text": [
      "/var/folders/y3/k251xs_s3c3dgw01ys3t1_wm0000gq/T/ipykernel_89772/1171821385.py:2: UserWarning: \n",
      "The dash_core_components package is deprecated. Please replace\n",
      "`import dash_core_components as dcc` with `from dash import dcc`\n",
      "  import dash_core_components as dcc\n",
      "/var/folders/y3/k251xs_s3c3dgw01ys3t1_wm0000gq/T/ipykernel_89772/1171821385.py:3: UserWarning: \n",
      "The dash_html_components package is deprecated. Please replace\n",
      "`import dash_html_components as html` with `from dash import html`\n",
      "  import dash_html_components as html\n"
     ]
    },
    {
     "data": {
      "text/html": [
       "\n",
       "        <iframe\n",
       "            width=\"100%\"\n",
       "            height=\"650\"\n",
       "            src=\"http://127.0.0.1:8050/\"\n",
       "            frameborder=\"0\"\n",
       "            allowfullscreen\n",
       "            \n",
       "        ></iframe>\n",
       "        "
      ],
      "text/plain": [
       "<IPython.lib.display.IFrame at 0x7fd3482727c0>"
      ]
     },
     "metadata": {},
     "output_type": "display_data"
    }
   ],
   "source": [
    "import dash\n",
    "import dash_core_components as dcc\n",
    "import dash_html_components as html\n",
    "from dash.dependencies import Input, Output\n",
    "import plotly.express as px\n",
    "import pandas as pd\n",
    "\n",
    "# Sample data for India, Sri Lanka, Canada, and South Africa\n",
    "data = pd.DataFrame({\n",
    "    'Country': ['India', 'Sri Lanka', 'Canada', 'South Africa'],\n",
    "    'Subscribers': [1000000, 250000, 500000, 750000],\n",
    "    'Videos': [500, 300, 600, 400],\n",
    "    'Likes': [50000, 3000, 6000, 40000],\n",
    "    'Comments': [2000, 100, 400, 1500],\n",
    "    'Views': [10000000, 300000, 5000000, 7500000]\n",
    "})\n",
    "\n",
    "\n",
    "\n",
    "# Create a Dash app\n",
    "app = dash.Dash(__name__)\n",
    "\n",
    "# Define the layout of the app\n",
    "app.layout = html.Div([\n",
    "    html.H1(\"Social Media Data Dashboard\"),\n",
    "    \n",
    "    dcc.Dropdown(\n",
    "        id='country-selector',\n",
    "        options=[\n",
    "            {'label': 'India', 'value': 'India'},\n",
    "            {'label': 'Sri Lanka', 'value': 'Sri Lanka'},\n",
    "            {'label': 'Canada', 'value': 'Canada'},\n",
    "            {'label': 'South Africa', 'value': 'South Africa'}\n",
    "        ],\n",
    "        value='India',\n",
    "        multi=False\n",
    "    ),\n",
    "    \n",
    "    dcc.Graph(id='bar-chart'),\n",
    "    dcc.Graph(id='pie-chart'),\n",
    "])\n",
    "\n",
    "# Define a callback to update the charts based on the selected country\n",
    "@app.callback(\n",
    "    [Output('bar-chart', 'figure'), Output('pie-chart', 'figure')],\n",
    "    Input('country-selector', 'value')\n",
    ")\n",
    "def update_charts(selected_country):\n",
    "    filtered_data = data[data['Country'] == selected_country]\n",
    "    \n",
    "    bar_chart = px.bar(filtered_data, x='Country', y=['Subscribers', 'Videos', 'Likes', 'Comments', 'Views'],\n",
    "                      title=f'Social Media Data for {selected_country}')\n",
    "    \n",
    "    pie_chart = px.pie(filtered_data, names=['Subscribers', 'Videos', 'Likes', 'Comments', 'Views'],\n",
    "                      title=f'Social Media Data Distribution for {selected_country}')\n",
    "    \n",
    "    return bar_chart, pie_chart\n",
    "\n",
    "# Run the app\n",
    "if __name__ == '__main__':\n",
    "    app.run_server(debug=True)\n"
   ]
  },
  {
   "cell_type": "code",
   "execution_count": null,
   "id": "05bbdfd4-c80c-4817-b34a-033198959c3c",
   "metadata": {},
   "outputs": [],
   "source": []
  }
 ],
 "metadata": {
  "kernelspec": {
   "display_name": "Python 3 (ipykernel)",
   "language": "python",
   "name": "python3"
  },
  "language_info": {
   "codemirror_mode": {
    "name": "ipython",
    "version": 3
   },
   "file_extension": ".py",
   "mimetype": "text/x-python",
   "name": "python",
   "nbconvert_exporter": "python",
   "pygments_lexer": "ipython3",
   "version": "3.8.0"
  }
 },
 "nbformat": 4,
 "nbformat_minor": 5
}
