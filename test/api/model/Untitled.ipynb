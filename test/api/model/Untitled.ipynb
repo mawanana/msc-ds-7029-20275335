{
 "cells": [
  {
   "cell_type": "code",
   "execution_count": 1,
   "id": "7462bc54-7cf3-4281-b4f2-1d67a9df6d5e",
   "metadata": {},
   "outputs": [
    {
     "ename": "ModuleNotFoundError",
     "evalue": "No module named 'models'",
     "output_type": "error",
     "traceback": [
      "\u001b[0;31m---------------------------------------------------------------------------\u001b[0m",
      "\u001b[0;31mModuleNotFoundError\u001b[0m                       Traceback (most recent call last)",
      "Cell \u001b[0;32mIn[1], line 2\u001b[0m\n\u001b[1;32m      1\u001b[0m \u001b[38;5;28;01mfrom\u001b[39;00m \u001b[38;5;21;01mflask\u001b[39;00m \u001b[38;5;28;01mimport\u001b[39;00m Blueprint, jsonify\n\u001b[0;32m----> 2\u001b[0m \u001b[38;5;28;01mfrom\u001b[39;00m \u001b[38;5;21;01mmodels\u001b[39;00m\u001b[38;5;21;01m.\u001b[39;00m\u001b[38;5;21;01mmodel_youtube_channel\u001b[39;00m \u001b[38;5;28;01mimport\u001b[39;00m ModelYoutubeChannel\n\u001b[1;32m      4\u001b[0m controller_youtube_channel_api \u001b[38;5;241m=\u001b[39m Blueprint(\u001b[38;5;124m'\u001b[39m\u001b[38;5;124mcontroller_youtube_channel_api\u001b[39m\u001b[38;5;124m'\u001b[39m, \u001b[38;5;18m__name__\u001b[39m)\n\u001b[1;32m      6\u001b[0m \u001b[38;5;129m@controller_youtube_channel_api\u001b[39m\u001b[38;5;241m.\u001b[39mroute(\u001b[38;5;124m'\u001b[39m\u001b[38;5;124m/api/youtube_channel_data\u001b[39m\u001b[38;5;124m'\u001b[39m, methods\u001b[38;5;241m=\u001b[39m[\u001b[38;5;124m'\u001b[39m\u001b[38;5;124mGET\u001b[39m\u001b[38;5;124m'\u001b[39m])\n\u001b[1;32m      7\u001b[0m \u001b[38;5;28;01mdef\u001b[39;00m \u001b[38;5;21mget_youtube_channel_data\u001b[39m():\n",
      "\u001b[0;31mModuleNotFoundError\u001b[0m: No module named 'models'"
     ]
    }
   ],
   "source": [
    "from flask import Blueprint, jsonify\n",
    "from models.model_youtube_channel import ModelYoutubeChannel\n",
    "\n",
    "controller_youtube_channel_api = Blueprint('controller_youtube_channel_api', __name__)\n",
    "\n",
    "@controller_youtube_channel_api.route('/api/youtube_channel_data', methods=['GET'])\n",
    "def get_youtube_channel_data():\n",
    "    try:\n",
    "        model = ModelYoutubeChannel()\n",
    "        data = model.get_data_for_max_batch_id()\n",
    "\n",
    "        print(\"=========ddddd==========\")\n",
    "        print(data)\n",
    "        # Process and return the data\n",
    "        # ...\n",
    "\n",
    "        return jsonify(data)\n",
    "\n",
    "    except Exception as e:\n",
    "        return jsonify({\"error\": str(e)}), 500\n"
   ]
  },
  {
   "cell_type": "code",
   "execution_count": null,
   "id": "7802d0b3-bca1-406a-abea-8a7de9965a34",
   "metadata": {},
   "outputs": [],
   "source": []
  }
 ],
 "metadata": {
  "kernelspec": {
   "display_name": "Python 3 (ipykernel)",
   "language": "python",
   "name": "python3"
  },
  "language_info": {
   "codemirror_mode": {
    "name": "ipython",
    "version": 3
   },
   "file_extension": ".py",
   "mimetype": "text/x-python",
   "name": "python",
   "nbconvert_exporter": "python",
   "pygments_lexer": "ipython3",
   "version": "3.8.0"
  }
 },
 "nbformat": 4,
 "nbformat_minor": 5
}
