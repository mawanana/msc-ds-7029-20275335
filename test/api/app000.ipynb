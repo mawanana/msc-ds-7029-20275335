{
 "cells": [
  {
   "cell_type": "code",
   "execution_count": 2,
   "id": "60e21236-99f9-4699-b80b-bdf681bf05d1",
   "metadata": {},
   "outputs": [
    {
     "name": "stdout",
     "output_type": "stream",
     "text": [
      " * Serving Flask app '__main__'\n",
      " * Debug mode: off\n"
     ]
    },
    {
     "name": "stderr",
     "output_type": "stream",
     "text": [
      "\u001b[31m\u001b[1mWARNING: This is a development server. Do not use it in a production deployment. Use a production WSGI server instead.\u001b[0m\n",
      " * Running on all addresses (0.0.0.0)\n",
      " * Running on http://127.0.0.1:5000\n",
      " * Running on http://192.168.8.116:5000\n",
      "\u001b[33mPress CTRL+C to quit\u001b[0m\n",
      "192.168.8.116 - - [10/Oct/2023 18:34:14] \"\u001b[33mGET / HTTP/1.1\u001b[0m\" 404 -\n",
      "192.168.8.116 - - [10/Oct/2023 18:34:15] \"\u001b[33mGET /favicon.ico HTTP/1.1\u001b[0m\" 404 -\n",
      "192.168.8.116 - - [10/Oct/2023 18:34:18] \"\u001b[33mGET / HTTP/1.1\u001b[0m\" 404 -\n"
     ]
    }
   ],
   "source": [
    "from flask import Flask, jsonify\n",
    "import mysql.connector\n",
    "\n",
    "app = Flask(__name__)\n",
    "\n",
    "# # Replace with your MySQL database credentials\n",
    "# db_config = {\n",
    "#     \"host\": \"msc_ds-7029-20275335-mysql-1\",\n",
    "#     \"user\": \"root\",\n",
    "#     \"password\": \"rootpassword\",\n",
    "#     \"database\": \"social_media_db\"\n",
    "# }\n",
    "\n",
    "# # Create a MySQL connection\n",
    "# db = mysql.connector.connect(**db_config)\n",
    "\n",
    "db = mysql.connector.connect(\n",
    "\n",
    "    host = \"localhost\",\n",
    "    user = \"root\",\n",
    "    password = \"rootpassword\"\n",
    "\n",
    ")\n",
    "\n",
    "# cursor = mydb.cursor()\n",
    "\n",
    "@app.route('/get_comments_data', methods=['GET'])\n",
    "def get_comments_data():\n",
    "    try:\n",
    "        cursor = db.cursor()\n",
    "        \n",
    "        # Query to retrieve data for the highest batch_id\n",
    "        query = \"\"\"\n",
    "        SELECT comment_text, likes, shares, replies\n",
    "        FROM comments_processed_data\n",
    "        WHERE batch_id = (\n",
    "            SELECT MAX(batch_id) FROM comments_processed_data\n",
    "        )\n",
    "        \"\"\"\n",
    "        \n",
    "        cursor.execute(query)\n",
    "        result = cursor.fetchall()\n",
    "        \n",
    "        if result:\n",
    "            data = []\n",
    "            for row in result:\n",
    "                comment_data = {\n",
    "                    \"comment_text\": row[0],\n",
    "                    \"likes\": row[1],\n",
    "                    \"shares\": row[2],\n",
    "                    \"replies\": row[3]\n",
    "                }\n",
    "                data.append(comment_data)\n",
    "            \n",
    "            return jsonify(data)\n",
    "        else:\n",
    "            return jsonify({\"message\": \"No data found\"})\n",
    "    \n",
    "    except Exception as e:\n",
    "        return jsonify({\"error\": str(e)})\n",
    "\n",
    "if __name__ == '__main__':\n",
    "    app.run(host='0.0.0.0', port=5000)\n",
    "    # app.run(debug=True)\n"
   ]
  },
  {
   "cell_type": "code",
   "execution_count": null,
   "id": "c034bffe-4e2f-4416-a9f9-505a042ed843",
   "metadata": {},
   "outputs": [],
   "source": []
  }
 ],
 "metadata": {
  "kernelspec": {
   "display_name": "Python 3 (ipykernel)",
   "language": "python",
   "name": "python3"
  },
  "language_info": {
   "codemirror_mode": {
    "name": "ipython",
    "version": 3
   },
   "file_extension": ".py",
   "mimetype": "text/x-python",
   "name": "python",
   "nbconvert_exporter": "python",
   "pygments_lexer": "ipython3",
   "version": "3.8.0"
  }
 },
 "nbformat": 4,
 "nbformat_minor": 5
}
