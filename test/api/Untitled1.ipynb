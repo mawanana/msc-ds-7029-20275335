{
 "cells": [
  {
   "cell_type": "code",
   "execution_count": 1,
   "id": "da83478b-5ae0-4963-80c1-a6f1b0bd9865",
   "metadata": {},
   "outputs": [
    {
     "ename": "ModuleNotFoundError",
     "evalue": "No module named 'api'",
     "output_type": "error",
     "traceback": [
      "\u001b[0;31m---------------------------------------------------------------------------\u001b[0m",
      "\u001b[0;31mModuleNotFoundError\u001b[0m                       Traceback (most recent call last)",
      "Cell \u001b[0;32mIn[1], line 2\u001b[0m\n\u001b[1;32m      1\u001b[0m \u001b[38;5;28;01mfrom\u001b[39;00m \u001b[38;5;21;01mflask\u001b[39;00m \u001b[38;5;28;01mimport\u001b[39;00m Flask\n\u001b[0;32m----> 2\u001b[0m \u001b[38;5;28;01mfrom\u001b[39;00m \u001b[38;5;21;01mapi\u001b[39;00m\u001b[38;5;21;01m.\u001b[39;00m\u001b[38;5;21;01mcontrollers\u001b[39;00m\u001b[38;5;21;01m.\u001b[39;00m\u001b[38;5;21;01myoutube_channel\u001b[39;00m \u001b[38;5;28;01mimport\u001b[39;00m youtube_channel_api\n\u001b[1;32m      3\u001b[0m \u001b[38;5;66;03m# from api.controllers.post_cleaned import post_cleaned_api\u001b[39;00m\n\u001b[1;32m      5\u001b[0m app \u001b[38;5;241m=\u001b[39m Flask(__name)\n",
      "\u001b[0;31mModuleNotFoundError\u001b[0m: No module named 'api'"
     ]
    }
   ],
   "source": [
    "from flask import Flask\n",
    "from api.controllers.youtube_channel import youtube_channel_api\n",
    "# from api.controllers.post_cleaned import post_cleaned_api\n",
    "\n",
    "app = Flask(__name)\n",
    "\n",
    "# Register the controller blueprints\n",
    "app.register_blueprint(youtube_channel_api, url_prefix='/api/youtube_channel')\n",
    "app.register_blueprint(post_cleaned_api, url_prefix='/api/post_cleaned')\n",
    "\n",
    "if __name__ == '__main__':\n",
    "    app.run(debug=True)\n"
   ]
  },
  {
   "cell_type": "code",
   "execution_count": null,
   "id": "2cd21037-69d8-428d-823b-77d84f88f6c1",
   "metadata": {},
   "outputs": [],
   "source": []
  }
 ],
 "metadata": {
  "kernelspec": {
   "display_name": "Python 3 (ipykernel)",
   "language": "python",
   "name": "python3"
  },
  "language_info": {
   "codemirror_mode": {
    "name": "ipython",
    "version": 3
   },
   "file_extension": ".py",
   "mimetype": "text/x-python",
   "name": "python",
   "nbconvert_exporter": "python",
   "pygments_lexer": "ipython3",
   "version": "3.8.0"
  }
 },
 "nbformat": 4,
 "nbformat_minor": 5
}
