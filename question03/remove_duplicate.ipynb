{
 "cells": [
  {
   "cell_type": "code",
   "execution_count": 3,
   "id": "72737a35-96cf-401f-ad33-09d73311dc3b",
   "metadata": {},
   "outputs": [
    {
     "name": "stdout",
     "output_type": "stream",
     "text": [
      "Removed duplicates and saved to unique_data.txt\n"
     ]
    }
   ],
   "source": [
    "# Define the input and output file names\n",
    "input_file = \"data.txt\"\n",
    "output_file = \"unique_data.txt\"\n",
    "\n",
    "# Create a set to store unique lines\n",
    "unique_lines = set()\n",
    "\n",
    "# Open the input file for reading\n",
    "with open(input_file, 'r') as file:\n",
    "    # Read each line and add it to the set (duplicates will be automatically removed)\n",
    "    for line in file:\n",
    "        unique_lines.add(line)\n",
    "\n",
    "# Open the output file for writing\n",
    "with open(output_file, 'w') as file:\n",
    "    # Write the unique lines back to the output file\n",
    "    for line in unique_lines:\n",
    "        file.write(line)\n",
    "\n",
    "print(f\"Removed duplicates and saved to {output_file}\")\n"
   ]
  },
  {
   "cell_type": "code",
   "execution_count": null,
   "id": "a6bbb0bd-25ae-42d1-8e53-b919dbda6d45",
   "metadata": {},
   "outputs": [],
   "source": []
  }
 ],
 "metadata": {
  "kernelspec": {
   "display_name": "Python 3 (ipykernel)",
   "language": "python",
   "name": "python3"
  },
  "language_info": {
   "codemirror_mode": {
    "name": "ipython",
    "version": 3
   },
   "file_extension": ".py",
   "mimetype": "text/x-python",
   "name": "python",
   "nbconvert_exporter": "python",
   "pygments_lexer": "ipython3",
   "version": "3.8.0"
  }
 },
 "nbformat": 4,
 "nbformat_minor": 5
}
